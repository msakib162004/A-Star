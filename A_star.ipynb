{
  "nbformat": 4,
  "nbformat_minor": 0,
  "metadata": {
    "colab": {
      "name": "A-star.ipynb",
      "provenance": [],
      "collapsed_sections": []
    },
    "kernelspec": {
      "name": "python3",
      "display_name": "Python 3"
    }
  },
  "cells": [
    {
      "cell_type": "code",
      "metadata": {
        "id": "VB3cThfxDq1A",
        "outputId": "dfb9c4d6-b335-4ed4-fe41-76d850fba64c",
        "colab": {
          "base_uri": "https://localhost:8080/"
        }
      },
      "source": [
        "import queue \n",
        "maps={\n",
        "    \"0\":'S', \n",
        "    \"1\":'A',\n",
        "    \"2\": 'B',\n",
        "    \"3\": 'C',\n",
        "    \"4\": 'D',\n",
        "}\n",
        "#Adjacent list with weight. the cost of going s to a = 1, ato b = 4 and so on.\n",
        "adjacent_lists = ['A 1','B 4'],['B 2','C 5','D 12'],['C 2'],['D 3'],['none']\n",
        "#List for keeping the h values of each node. 0th index keeps the h value of 0th node.\n",
        "heuristic_lists = [7,6,2,1,0]\n",
        "sample = ['S','A','B','C','D']\n",
        "\n",
        "class Node:\n",
        "  def __init__(self, node_no, previous_n_object, actual_travel_cost, total_cost):\n",
        "    self.node_no = node_no\n",
        "    self.previous_n_object = previous_n_object\n",
        "    self.actual_travel_cost = actual_travel_cost\n",
        "    self.total_cost = total_cost\n",
        "\n",
        "#Min priority queue minQ. here, put to add in queue AND get to remove item from queue\n",
        "minQ = []\n",
        "\n",
        "flag = Node(0, \"none\", 0, 7)\n",
        "minQ.append((flag.total_cost, flag))\n",
        "\n",
        "destination = 'D'\n",
        "actual_cost  = 0\n",
        "\n",
        "while minQ:\n",
        "  try:\n",
        "    minQ.sort(reverse=True)\n",
        "    x=minQ.pop()\n",
        "  except:\n",
        "    x=minQ.pop()   \n",
        "  temp = str(x[1].node_no)\n",
        "  #Final result\n",
        "  if destination == maps[temp]:\n",
        "    print(f\"Cost : {x[1].actual_travel_cost}\")\n",
        "    print(\"Solutation Path :\", end=' ')\n",
        "    #Recursively solution path printing from path()\n",
        "    def path(x):\n",
        "      if x == \"none\":\n",
        "        return\n",
        "      path(x[1].previous_n_object) #Sending previous address\n",
        "      print(maps[str(x[1].node_no)], end=\" \")\n",
        "    path(x)\n",
        "    break\n",
        "  #End of if\n",
        "  for i in adjacent_lists[x[1].node_no]:\n",
        "    temp = i.split(\" \")\n",
        "    adjacent = temp[0]\n",
        "    cost = temp[1]\n",
        "    index = sample.index(adjacent)\n",
        "    actual_cost = int(x[1].actual_travel_cost) + int(cost)\n",
        "    total_cost_so_far = actual_cost + heuristic_lists[index]\n",
        "    new_object = Node(index, x, actual_cost, total_cost_so_far)\n",
        "    minQ.append((int(total_cost_so_far), new_object))\n",
        "  \n"
      ],
      "execution_count": null,
      "outputs": [
        {
          "output_type": "stream",
          "text": [
            "Cost : 8\n",
            "Solutation Path : S A B C D "
          ],
          "name": "stdout"
        }
      ]
    }
  ]
}